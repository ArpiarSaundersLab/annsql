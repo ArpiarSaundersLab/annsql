{
 "cells": [
  {
   "cell_type": "code",
   "execution_count": null,
   "metadata": {},
   "outputs": [],
   "source": [
    "#import libraries\n",
    "import scanpy as sc\n",
    "from MakeDb import MakeDb\n",
    "\n",
    "#read in the data from scanpy\n",
    "adata = sc.datasets.pbmc68k_reduced()\n",
    "\n",
    "#build a database to query later\n",
    "MakeDb(adata=adata, db_name=\"pbmc68k_reduced\", db_path=\"db/\")\n",
    "\n",
    "#call the AnnSQL class\n",
    "adata_sql = AnnSQL(db=\"db/pbmc68k_reduced.asql\")\n",
    "\n",
    "#query a table\n",
    "adata_sql.query(\"SELECT * FROM X\")\n"
   ]
  }
 ],
 "metadata": {
  "language_info": {
   "name": "python"
  }
 },
 "nbformat": 4,
 "nbformat_minor": 2
}
