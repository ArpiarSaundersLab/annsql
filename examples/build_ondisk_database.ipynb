{
 "cells": [
  {
   "cell_type": "markdown",
   "metadata": {},
   "source": [
    "# Build an On-Disk Database\n",
    "Using AnnSQL, there are two types of databases you can build. The first is a simple in-memory database for smaller datasets. The second is an on-disk database which we demonstrate how to build in this notebook. Building an on-disk AnnSQL database will allow you to query, filter, and run basic statistics on a laptop for larger than memory datasets.\n",
    "\n"
   ]
  },
  {
   "cell_type": "markdown",
   "metadata": {},
   "source": [
    "###  Install the AnnSQL package\n",
    "\n",
    "```bash\n",
    "pip install annsql\n",
    "```"
   ]
  },
  {
   "cell_type": "markdown",
   "metadata": {},
   "source": [
    "### Import Libraries "
   ]
  },
  {
   "cell_type": "code",
   "execution_count": 1,
   "metadata": {},
   "outputs": [],
   "source": [
    "from AnnSQL import AnnSQL\n",
    "from AnnSQL.MakeDb import MakeDb\n",
    "import scanpy as sc\n",
    "import os"
   ]
  },
  {
   "cell_type": "markdown",
   "metadata": {},
   "source": [
    "### Load the dataset\n",
    "Here, we load the sample pbmc3k raw dataset provided by Scanpy. **Note**: For very large datasets, it is necessary to open a dataset using the AnnData backed mode. Backed mode is fully supported. If opening in backed mode, the database will build in chunks. Depending on the size of your dataset and your compute source, this process may take time."
   ]
  },
  {
   "cell_type": "code",
   "execution_count": 2,
   "metadata": {},
   "outputs": [
    {
     "name": "stdout",
     "output_type": "stream",
     "text": [
      "AnnData object with n_obs × n_vars = 2700 × 32738\n",
      "    var: 'gene_ids'\n"
     ]
    }
   ],
   "source": [
    "adata = sc.datasets.pbmc3k()\n",
    "adata.var_names_make_unique()\n",
    "print(adata)"
   ]
  },
  {
   "cell_type": "markdown",
   "metadata": {},
   "source": [
    "### Build the AnnSQL database"
   ]
  },
  {
   "cell_type": "code",
   "execution_count": 3,
   "metadata": {},
   "outputs": [
    {
     "name": "stdout",
     "output_type": "stream",
     "text": [
      "Time to make var_names unique:  23.616740942001343\n",
      "Time to create X table structure:  0.24507379531860352\n",
      "Starting backed mode X table data insert. Total rows: 2700\n",
      "Processed chunk 0-2699 in 4.261802673339844 seconds\n",
      "\n",
      "Too close for missiles, switching to guns\n",
      "Creating X table from buffer file.\n",
      "This may take a while...\n",
      "Time to create X table from buffer: 67.55312919616699\n",
      "Finished inserting X data.\n"
     ]
    },
    {
     "data": {
      "text/plain": [
       "<AnnSQL.MakeDb.MakeDb at 0x7e32c02339b0>"
      ]
     },
     "execution_count": 3,
     "metadata": {},
     "output_type": "execute_result"
    }
   ],
   "source": [
    "adata = sc.read_h5ad(\"data/pbmc3k_raw.h5ad\", backed=\"r\")\n",
    "\n",
    "#Delete command. This is for testing purposes only. \n",
    "if os.path.exists(\"db/pbmc3k.asql\"):\n",
    "\tos.remove(\"db/pbmc3k.asql\")\n",
    "if os.path.exists(\"db/pbmc3k.asql.wal\"):\n",
    "\tos.remove(\"db/pbmc3k.asql.wal\")\n",
    "\n",
    "#high system memory (>24Gb)\n",
    "MakeDb(adata=adata, db_name=\"pbmc3k\", db_path=\"db/\", chunk_size=5000)\n",
    "\n",
    "# #medium system memory (12-24Gb)\n",
    "# MakeDb(adata=adata, db_name=\"pbmc3k\", db_path=\"db/\", chunk_size=2500)\n",
    "\n",
    "# #low system memory (<=12Gb)\n",
    "# MakeDb(adata=adata, db_name=\"pbmc3k\", db_path=\"db/\", chunk_size=1000, make_buffer_file=True)"
   ]
  },
  {
   "cell_type": "markdown",
   "metadata": {},
   "source": [
    "### Open the Database\n",
    "Below we instantiate the AnnSQL class with the db parameter pointing to our newly created database. By default the database files contain the `.asql` extension."
   ]
  },
  {
   "cell_type": "code",
   "execution_count": 4,
   "metadata": {},
   "outputs": [],
   "source": [
    "asql = AnnSQL(db=\"db/pbmc3k.asql\")"
   ]
  },
  {
   "cell_type": "markdown",
   "metadata": {},
   "source": [
    "### Query the Database"
   ]
  },
  {
   "cell_type": "code",
   "execution_count": 5,
   "metadata": {},
   "outputs": [
    {
     "data": {
      "text/html": [
       "<div>\n",
       "<style scoped>\n",
       "    .dataframe tbody tr th:only-of-type {\n",
       "        vertical-align: middle;\n",
       "    }\n",
       "\n",
       "    .dataframe tbody tr th {\n",
       "        vertical-align: top;\n",
       "    }\n",
       "\n",
       "    .dataframe thead th {\n",
       "        text-align: right;\n",
       "    }\n",
       "</style>\n",
       "<table border=\"1\" class=\"dataframe\">\n",
       "  <thead>\n",
       "    <tr style=\"text-align: right;\">\n",
       "      <th></th>\n",
       "      <th>cell_id</th>\n",
       "      <th>MIR1302_10</th>\n",
       "      <th>FAM138A</th>\n",
       "      <th>OR4F5</th>\n",
       "      <th>RP11_34P13_7</th>\n",
       "      <th>RP11_34P13_8</th>\n",
       "      <th>AL627309_1</th>\n",
       "      <th>RP11_34P13_14</th>\n",
       "      <th>RP11_34P13_9</th>\n",
       "      <th>AP006222_2</th>\n",
       "      <th>...</th>\n",
       "      <th>KIR3DL2_1</th>\n",
       "      <th>AL590523_1</th>\n",
       "      <th>CT476828_1</th>\n",
       "      <th>PNRC2_1</th>\n",
       "      <th>SRSF10_1</th>\n",
       "      <th>AC145205_1</th>\n",
       "      <th>BAGE5</th>\n",
       "      <th>CU459201_1</th>\n",
       "      <th>AC002321_2</th>\n",
       "      <th>AC002321_1</th>\n",
       "    </tr>\n",
       "  </thead>\n",
       "  <tbody>\n",
       "    <tr>\n",
       "      <th>0</th>\n",
       "      <td>AAACATACAACCAC-1</td>\n",
       "      <td>0.0</td>\n",
       "      <td>0.0</td>\n",
       "      <td>0.0</td>\n",
       "      <td>0.0</td>\n",
       "      <td>0.0</td>\n",
       "      <td>0.0</td>\n",
       "      <td>0.0</td>\n",
       "      <td>0.0</td>\n",
       "      <td>0.0</td>\n",
       "      <td>...</td>\n",
       "      <td>0.0</td>\n",
       "      <td>0.0</td>\n",
       "      <td>0.0</td>\n",
       "      <td>0.0</td>\n",
       "      <td>0.0</td>\n",
       "      <td>0.0</td>\n",
       "      <td>0.0</td>\n",
       "      <td>0.0</td>\n",
       "      <td>0.0</td>\n",
       "      <td>0.0</td>\n",
       "    </tr>\n",
       "    <tr>\n",
       "      <th>1</th>\n",
       "      <td>AAACATTGAGCTAC-1</td>\n",
       "      <td>0.0</td>\n",
       "      <td>0.0</td>\n",
       "      <td>0.0</td>\n",
       "      <td>0.0</td>\n",
       "      <td>0.0</td>\n",
       "      <td>0.0</td>\n",
       "      <td>0.0</td>\n",
       "      <td>0.0</td>\n",
       "      <td>0.0</td>\n",
       "      <td>...</td>\n",
       "      <td>0.0</td>\n",
       "      <td>0.0</td>\n",
       "      <td>0.0</td>\n",
       "      <td>0.0</td>\n",
       "      <td>0.0</td>\n",
       "      <td>0.0</td>\n",
       "      <td>0.0</td>\n",
       "      <td>0.0</td>\n",
       "      <td>0.0</td>\n",
       "      <td>0.0</td>\n",
       "    </tr>\n",
       "    <tr>\n",
       "      <th>2</th>\n",
       "      <td>AAACATTGATCAGC-1</td>\n",
       "      <td>0.0</td>\n",
       "      <td>0.0</td>\n",
       "      <td>0.0</td>\n",
       "      <td>0.0</td>\n",
       "      <td>0.0</td>\n",
       "      <td>0.0</td>\n",
       "      <td>0.0</td>\n",
       "      <td>0.0</td>\n",
       "      <td>0.0</td>\n",
       "      <td>...</td>\n",
       "      <td>0.0</td>\n",
       "      <td>0.0</td>\n",
       "      <td>0.0</td>\n",
       "      <td>0.0</td>\n",
       "      <td>0.0</td>\n",
       "      <td>0.0</td>\n",
       "      <td>0.0</td>\n",
       "      <td>0.0</td>\n",
       "      <td>0.0</td>\n",
       "      <td>0.0</td>\n",
       "    </tr>\n",
       "    <tr>\n",
       "      <th>3</th>\n",
       "      <td>AAACCGTGCTTCCG-1</td>\n",
       "      <td>0.0</td>\n",
       "      <td>0.0</td>\n",
       "      <td>0.0</td>\n",
       "      <td>0.0</td>\n",
       "      <td>0.0</td>\n",
       "      <td>0.0</td>\n",
       "      <td>0.0</td>\n",
       "      <td>0.0</td>\n",
       "      <td>0.0</td>\n",
       "      <td>...</td>\n",
       "      <td>0.0</td>\n",
       "      <td>0.0</td>\n",
       "      <td>0.0</td>\n",
       "      <td>0.0</td>\n",
       "      <td>0.0</td>\n",
       "      <td>0.0</td>\n",
       "      <td>0.0</td>\n",
       "      <td>0.0</td>\n",
       "      <td>0.0</td>\n",
       "      <td>0.0</td>\n",
       "    </tr>\n",
       "    <tr>\n",
       "      <th>4</th>\n",
       "      <td>AAACCGTGTATGCG-1</td>\n",
       "      <td>0.0</td>\n",
       "      <td>0.0</td>\n",
       "      <td>0.0</td>\n",
       "      <td>0.0</td>\n",
       "      <td>0.0</td>\n",
       "      <td>0.0</td>\n",
       "      <td>0.0</td>\n",
       "      <td>0.0</td>\n",
       "      <td>0.0</td>\n",
       "      <td>...</td>\n",
       "      <td>0.0</td>\n",
       "      <td>0.0</td>\n",
       "      <td>0.0</td>\n",
       "      <td>0.0</td>\n",
       "      <td>0.0</td>\n",
       "      <td>0.0</td>\n",
       "      <td>0.0</td>\n",
       "      <td>0.0</td>\n",
       "      <td>0.0</td>\n",
       "      <td>0.0</td>\n",
       "    </tr>\n",
       "  </tbody>\n",
       "</table>\n",
       "<p>5 rows × 32739 columns</p>\n",
       "</div>"
      ],
      "text/plain": [
       "            cell_id  MIR1302_10  FAM138A  OR4F5  RP11_34P13_7  RP11_34P13_8  \\\n",
       "0  AAACATACAACCAC-1         0.0      0.0    0.0           0.0           0.0   \n",
       "1  AAACATTGAGCTAC-1         0.0      0.0    0.0           0.0           0.0   \n",
       "2  AAACATTGATCAGC-1         0.0      0.0    0.0           0.0           0.0   \n",
       "3  AAACCGTGCTTCCG-1         0.0      0.0    0.0           0.0           0.0   \n",
       "4  AAACCGTGTATGCG-1         0.0      0.0    0.0           0.0           0.0   \n",
       "\n",
       "   AL627309_1  RP11_34P13_14  RP11_34P13_9  AP006222_2  ...  KIR3DL2_1  \\\n",
       "0         0.0            0.0           0.0         0.0  ...        0.0   \n",
       "1         0.0            0.0           0.0         0.0  ...        0.0   \n",
       "2         0.0            0.0           0.0         0.0  ...        0.0   \n",
       "3         0.0            0.0           0.0         0.0  ...        0.0   \n",
       "4         0.0            0.0           0.0         0.0  ...        0.0   \n",
       "\n",
       "   AL590523_1  CT476828_1  PNRC2_1  SRSF10_1  AC145205_1  BAGE5  CU459201_1  \\\n",
       "0         0.0         0.0      0.0       0.0         0.0    0.0         0.0   \n",
       "1         0.0         0.0      0.0       0.0         0.0    0.0         0.0   \n",
       "2         0.0         0.0      0.0       0.0         0.0    0.0         0.0   \n",
       "3         0.0         0.0      0.0       0.0         0.0    0.0         0.0   \n",
       "4         0.0         0.0      0.0       0.0         0.0    0.0         0.0   \n",
       "\n",
       "   AC002321_2  AC002321_1  \n",
       "0         0.0         0.0  \n",
       "1         0.0         0.0  \n",
       "2         0.0         0.0  \n",
       "3         0.0         0.0  \n",
       "4         0.0         0.0  \n",
       "\n",
       "[5 rows x 32739 columns]"
      ]
     },
     "execution_count": 5,
     "metadata": {},
     "output_type": "execute_result"
    }
   ],
   "source": [
    "asql.query(\"SELECT * FROM X LIMIT 5\")"
   ]
  },
  {
   "cell_type": "markdown",
   "metadata": {},
   "source": [
    "### Calculate total counts per gene"
   ]
  },
  {
   "cell_type": "code",
   "execution_count": 6,
   "metadata": {},
   "outputs": [
    {
     "data": {
      "text/html": [
       "<div>\n",
       "<style scoped>\n",
       "    .dataframe tbody tr th:only-of-type {\n",
       "        vertical-align: middle;\n",
       "    }\n",
       "\n",
       "    .dataframe tbody tr th {\n",
       "        vertical-align: top;\n",
       "    }\n",
       "\n",
       "    .dataframe thead th {\n",
       "        text-align: right;\n",
       "    }\n",
       "</style>\n",
       "<table border=\"1\" class=\"dataframe\">\n",
       "  <thead>\n",
       "    <tr style=\"text-align: right;\">\n",
       "      <th></th>\n",
       "      <th>MIR1302_10</th>\n",
       "      <th>FAM138A</th>\n",
       "      <th>OR4F5</th>\n",
       "      <th>RP11_34P13_7</th>\n",
       "      <th>RP11_34P13_8</th>\n",
       "      <th>AL627309_1</th>\n",
       "      <th>RP11_34P13_14</th>\n",
       "      <th>RP11_34P13_9</th>\n",
       "      <th>AP006222_2</th>\n",
       "      <th>RP4_669L17_10</th>\n",
       "      <th>...</th>\n",
       "      <th>KIR3DL2_1</th>\n",
       "      <th>AL590523_1</th>\n",
       "      <th>CT476828_1</th>\n",
       "      <th>PNRC2_1</th>\n",
       "      <th>SRSF10_1</th>\n",
       "      <th>AC145205_1</th>\n",
       "      <th>BAGE5</th>\n",
       "      <th>CU459201_1</th>\n",
       "      <th>AC002321_2</th>\n",
       "      <th>AC002321_1</th>\n",
       "    </tr>\n",
       "  </thead>\n",
       "  <tbody>\n",
       "    <tr>\n",
       "      <th>0</th>\n",
       "      <td>0.0</td>\n",
       "      <td>0.0</td>\n",
       "      <td>0.0</td>\n",
       "      <td>0.0</td>\n",
       "      <td>0.0</td>\n",
       "      <td>9.0</td>\n",
       "      <td>0.0</td>\n",
       "      <td>0.0</td>\n",
       "      <td>3.0</td>\n",
       "      <td>0.0</td>\n",
       "      <td>...</td>\n",
       "      <td>0.0</td>\n",
       "      <td>0.0</td>\n",
       "      <td>0.0</td>\n",
       "      <td>116.0</td>\n",
       "      <td>70.0</td>\n",
       "      <td>0.0</td>\n",
       "      <td>0.0</td>\n",
       "      <td>0.0</td>\n",
       "      <td>0.0</td>\n",
       "      <td>0.0</td>\n",
       "    </tr>\n",
       "  </tbody>\n",
       "</table>\n",
       "<p>1 rows × 32738 columns</p>\n",
       "</div>"
      ],
      "text/plain": [
       "   MIR1302_10  FAM138A  OR4F5  RP11_34P13_7  RP11_34P13_8  AL627309_1  \\\n",
       "0         0.0      0.0    0.0           0.0           0.0         9.0   \n",
       "\n",
       "   RP11_34P13_14  RP11_34P13_9  AP006222_2  RP4_669L17_10  ...  KIR3DL2_1  \\\n",
       "0            0.0           0.0         3.0            0.0  ...        0.0   \n",
       "\n",
       "   AL590523_1  CT476828_1  PNRC2_1  SRSF10_1  AC145205_1  BAGE5  CU459201_1  \\\n",
       "0         0.0         0.0    116.0      70.0         0.0    0.0         0.0   \n",
       "\n",
       "   AC002321_2  AC002321_1  \n",
       "0         0.0         0.0  \n",
       "\n",
       "[1 rows x 32738 columns]"
      ]
     },
     "execution_count": 6,
     "metadata": {},
     "output_type": "execute_result"
    }
   ],
   "source": [
    "#total counts per gene \n",
    "asql.query(\"SELECT SUM(COLUMNS(*)) FROM (SELECT * EXCLUDE (cell_id) FROM X)\")"
   ]
  }
 ],
 "metadata": {
  "kernelspec": {
   "display_name": "env",
   "language": "python",
   "name": "python3"
  },
  "language_info": {
   "codemirror_mode": {
    "name": "ipython",
    "version": 3
   },
   "file_extension": ".py",
   "mimetype": "text/x-python",
   "name": "python",
   "nbconvert_exporter": "python",
   "pygments_lexer": "ipython3",
   "version": "3.12.3"
  }
 },
 "nbformat": 4,
 "nbformat_minor": 2
}
